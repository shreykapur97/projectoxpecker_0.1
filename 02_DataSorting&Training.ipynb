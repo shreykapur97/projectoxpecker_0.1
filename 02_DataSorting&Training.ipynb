{
 "cells": [
  {
   "cell_type": "code",
   "execution_count": 4,
   "metadata": {},
   "outputs": [],
   "source": [
    "import pandas as pd\n",
    "import numpy as np\n",
    "import os\n",
    "\n",
    "import joblib"
   ]
  },
  {
   "cell_type": "code",
   "execution_count": 5,
   "metadata": {},
   "outputs": [],
   "source": [
    "#Update Pandas Settings\n",
    "pd.set_option('display.width', None)  # to remove any wrapping\n",
    "pd.set_option('display.max_columns', None)  # to show all columns\n",
    "pd.set_option('display.width', 1000)"
   ]
  },
  {
   "cell_type": "markdown",
   "metadata": {},
   "source": [
    "# IMPORTING DATA"
   ]
  },
  {
   "cell_type": "code",
   "execution_count": 6,
   "metadata": {},
   "outputs": [],
   "source": [
    "#Main Definitions Here\n",
    "\n",
    "def import_combine(folder, geo, file_count = 0):\n",
    "    #loop through folder\n",
    "    dfs = []\n",
    "    # Generate file names, and read each file\n",
    "    for i in range(0, file_count):\n",
    "        filename = f'{folder}/{geo}_8760.hrs_{str(i)}.csv'\n",
    "        # filename = f'{folder}/{geo}_{str(i)}.csv'\n",
    "        try:            \n",
    "            df = pd.read_csv(filename,sep = '#')\n",
    "            dfs.append(df)\n",
    "\n",
    "        except FileNotFoundError:\n",
    "            print(f'File {filename} not found. Skipping.')\n",
    "\n",
    "    combined_df = pd.concat(dfs, ignore_index=True)\n",
    "    return(combined_df)\n",
    "\n",
    "\n",
    "def clean_data(combined_df):\n",
    "    # Function to convert the string representation of a list into an actual list of floats\n",
    "    def convert_to_list(string):\n",
    "        return eval(string)\n",
    "\n",
    "    #Apply the function to 'vf_vec' and 'gf_vec' columns\n",
    "    combined_df = combined_df.assign(vox_vec=lambda df: df['vox_vec'].apply(convert_to_list), \n",
    "                                 geo_vec=lambda df: df['geo_vec'].apply(convert_to_list)\n",
    "                                 )\n",
    "\n",
    "    #===================================================================================================================================================\n",
    "    # # Split vox_hit into boolean columns\n",
    "    # combined_df['xb_1'], combined_df['xb_2'], combined_df['xb_3'], combined_df['xb_4'], combined_df['xb_5'], combined_df['xb_6'], = zip(\n",
    "    #     *combined_df['bound_hit'].apply(lambda v: (v[0], v[1], v[2], v[3], v[4], v[5])))\n",
    "    \n",
    "    #===================================================================================================================================================\n",
    "    # Split vectors into 3 new columns each for gf_vec & vf_vec using lambda functions\n",
    "\n",
    "    combined_df[('vox_vecX')], combined_df['vox_vecY'], combined_df['vox_vecZ'] = zip(*combined_df['vox_vec'].apply(lambda v: (v[0], v[1], v[2])))\n",
    "    combined_df['geo_vecX'], combined_df['geo_vecY'], combined_df['geo_vecZ'] = zip(*combined_df['geo_vec'].apply(lambda v: (v[0], v[1], v[2])))\n",
    "\n",
    "    #===================================================================================================================================================\n",
    "    # Vector Math\n",
    "    # Dot Product with Related Face\n",
    "    combined_df['vox_dot'] = combined_df.apply(lambda row: np.dot(row['vox_vec'], row['geo_vec']), axis=1)\n",
    "    \n",
    "    #===================================================================================================================================================    \n",
    "    #Remove Ir. Columns lists\n",
    "    combined_df = combined_df.drop(columns=['geo_vec', 'vox_vec'])\n",
    "\n",
    "    #===================================================================================================================================================\n",
    "    # Move Columns to Last\n",
    "    move_columns =  ['geo_rad', 'geo_s.hr']\n",
    "\n",
    "    # Pop and reassign columns using a loop\n",
    "    for col in move_columns:\n",
    "        combined_df[col] = combined_df.pop(col)\n",
    "\n",
    "    #===================================================================================================================================================\n",
    "    #clean data\n",
    "    output_df = combined_df.drop_duplicates()\n",
    "    #===================================================================================================================================================\n",
    "    #Return Data\n",
    "    return(output_df)"
   ]
  },
  {
   "cell_type": "code",
   "execution_count": 7,
   "metadata": {},
   "outputs": [
    {
     "name": "stdout",
     "output_type": "stream",
     "text": [
      "(35674, 8)\n",
      "(31970, 13)\n"
     ]
    }
   ],
   "source": [
    "#Import Training Data\n",
    "folder = \"C:/Users/shrey/OneDrive/Desktop/01_IAAC/IAAC_MAA_2407/00_THESIS/WIP/COLAB/CSV/17_cube dataset_step15_sunshaded\"\n",
    "geo = \"cube_hole\"\n",
    "file_count = 343\n",
    "combined_df = import_combine(folder,geo, file_count)\n",
    "print(combined_df.shape)\n",
    "\n",
    "#Clean Training Data\n",
    "cleaned_df = clean_data(combined_df)\n",
    "print(cleaned_df.shape)\n",
    "cleaned_df.head()\n",
    "\n",
    "#Pop & Group for Identifying Relationships\n",
    "relation_df = cleaned_df.loc[:,'vox_rad':'geo_s.hr']"
   ]
  },
  {
   "cell_type": "markdown",
   "metadata": {},
   "source": [
    "# Random Forest Regression FOR Incident Radiation & Direct Sun Hours"
   ]
  },
  {
   "cell_type": "code",
   "execution_count": 30,
   "metadata": {},
   "outputs": [
    {
     "name": "stdout",
     "output_type": "stream",
     "text": [
      "Training time for Random Forest Regressor (Radiation): 5.12 seconds\n",
      "Random Forest model for Incident Radiation trained and saved successfully.\n",
      "Training time for Random Forest Regressor (Direct Sun Hours): 6.05 seconds\n",
      "Random Forest model for Direct Sun Hours trained and saved successfully.\n"
     ]
    }
   ],
   "source": [
    "from sklearn.ensemble import RandomForestRegressor\n",
    "import joblib\n",
    "import os\n",
    "import time\n",
    "\n",
    "model_path = \"C:/Users/shrey/OneDrive/Desktop/01_IAAC/IAAC_MAA_2407/00_THESIS/WIP/ML Models/01P_Trained_VoxRad-VoxDot\"\n",
    "\n",
    "estimators = 100\n",
    "rstate = 10\n",
    "\n",
    "# Separate features and targets for Radiation\n",
    "feature_set = cleaned_df.loc[:, 'vox_rad':'vox_dot']\n",
    "y_geo_radiation = cleaned_df['geo_rad']\n",
    "\n",
    "# Train Random Forest Regressor model for Radiation on the entire dataset\n",
    "start_time = time.time()\n",
    "random_forest_regressor_radiation = RandomForestRegressor(n_estimators=100, random_state=5)\n",
    "random_forest_regressor_radiation.fit(feature_set, y_geo_radiation)\n",
    "random_forest_time_radiation = time.time() - start_time\n",
    "\n",
    "# Print training time for Radiation\n",
    "print(f\"Training time for Random Forest Regressor (Radiation): {random_forest_time_radiation:.2f} seconds\")\n",
    "\n",
    "# Save the Random Forest model for Radiation to a specific path\n",
    "os.makedirs(model_path, exist_ok=True)\n",
    "joblib.dump(random_forest_regressor_radiation, os.path.join(model_path, 'random_forest_geo_radiation.pkl'))\n",
    "\n",
    "print(\"Random Forest model for Incident Radiation trained and saved successfully.\")\n",
    "\n",
    "# Separate features and targets for Direct Sun Hours\n",
    "y_geo_sunhr = cleaned_df['geo_s.hr']\n",
    "\n",
    "# Train Random Forest Regressor model for Direct Sun Hours on the entire dataset\n",
    "start_time = time.time()\n",
    "random_forest_regressor_sunhr = RandomForestRegressor(n_estimators=100, random_state=5)\n",
    "random_forest_regressor_sunhr.fit(feature_set, y_geo_sunhr)\n",
    "random_forest_time_sunhr = time.time() - start_time\n",
    "\n",
    "# Print training time for Direct Sun Hours\n",
    "print(f\"Training time for Random Forest Regressor (Direct Sun Hours): {random_forest_time_sunhr:.2f} seconds\")\n",
    "\n",
    "# Save the Random Forest model for Direct Sun Hours to a specific path\n",
    "joblib.dump(random_forest_regressor_sunhr, os.path.join(model_path, 'random_forest_geo_sunhr.pkl'))\n",
    "\n",
    "print(\"Random Forest model for Direct Sun Hours trained and saved successfully.\")\n"
   ]
  }
 ],
 "metadata": {
  "kernelspec": {
   "display_name": ".venv",
   "language": "python",
   "name": "python3"
  },
  "language_info": {
   "codemirror_mode": {
    "name": "ipython",
    "version": 3
   },
   "file_extension": ".py",
   "mimetype": "text/x-python",
   "name": "python",
   "nbconvert_exporter": "python",
   "pygments_lexer": "ipython3",
   "version": "3.12.1"
  }
 },
 "nbformat": 4,
 "nbformat_minor": 2
}
